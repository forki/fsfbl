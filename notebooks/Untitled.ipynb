{
 "cells": [
  {
   "cell_type": "code",
   "execution_count": 3,
   "metadata": {
    "collapsed": false
   },
   "outputs": [
    {
     "name": "stderr",
     "output_type": "stream",
     "text": [
      "System.Exception: C:\\Users\\skell\\projects\\fsfbl\\notebooks\\exploratory\\paket.references uses the group notebook, but this group was not found in paket.lock.\r\n",
      "   at Paket.InstallProcess.group@345.Invoke(String message)\r\n",
      "   at Paket.InstallProcess.directDependencies@341-1.Invoke(PackageInstallSettings ps)\r\n",
      "   at Microsoft.FSharp.Collections.IEnumerator.map@111.DoMoveNext(b& )\r\n",
      "   at Microsoft.FSharp.Collections.IEnumerator.MapEnumerator`1.System-Collections-IEnumerator-MoveNext()\r\n",
      "   at Microsoft.FSharp.Core.CompilerServices.RuntimeHelpers.takeInner@706[T,TResult](ConcatEnumerator`2 x, Unit unitVar0)\r\n",
      "   at Microsoft.FSharp.Collections.MapTreeModule.mkFromEnumerator[a,b](IComparer`1 comparer, MapTree`2 acc, IEnumerator`1 e)\r\n",
      "   at Microsoft.FSharp.Collections.MapTreeModule.ofSeq[TKey,T](IComparer`1 comparer, IEnumerable`1 c)\r\n",
      "   at Microsoft.FSharp.Collections.FSharpMap`2.Create(IEnumerable`1 ie)\r\n",
      "   at Paket.InstallProcess.InstallIntoProjects[a](InstallerOptions options, Boolean forceTouch, DependenciesFile dependenciesFile, LockFile lockFile, FSharpList`1 projectsAndReferences, FSharpMap`2 updatedGroups)\r\n",
      "   at Paket.UpdateProcess.SmartInstall(DependenciesFile dependenciesFile, UpdateMode updateMode, UpdaterOptions options)\r\n",
      "   at <StartupCode$Paket-Core>.$PublicAPI.Install@163.Invoke(Unit unitVar0)\r\n",
      "   at Paket.Utils.RunInLockedAccessMode[a](String rootFolder, FSharpFunc`2 action)\r\n",
      "   at <StartupCode$FSI_0009>.$FSI_0009.main@() in C:\\Users\\skell\\projects\\fsfbl\\notebooks\\input.fsx:line 2\r\n",
      "Stopped due to error"
     ]
    }
   ],
   "source": [
    "#load \"Paket.fsx\"\n",
    "Paket.Dependencies.Install \"\"\"\n",
    "frameworks: net45\n",
    "source https://nuget.org/api/v2\n",
    "nuget FSharp.Core\n",
    "nuget Deedle\n",
    "\"\"\"\n",
    "\n",
    "Paket.LoadingScripts.ScriptGeneration.generateScriptsForRootFolder \n",
    "   Paket.LoadingScripts.ScriptGeneration.FSharp\n",
    "   (Paket.FrameworkIdentifier.DotNetFramework Paket.FrameworkVersion.V4_5)\n",
    "   (System.IO.DirectoryInfo __SOURCE_DIRECTORY__)"
   ]
  },
  {
   "cell_type": "code",
   "execution_count": null,
   "metadata": {
    "collapsed": true
   },
   "outputs": [],
   "source": []
  }
 ],
 "metadata": {
  "kernelspec": {
   "display_name": "F#",
   "language": "fsharp",
   "name": "ifsharp"
  },
  "language": "fsharp",
  "language_info": {
   "codemirror_mode": "",
   "file_extension": ".fs",
   "mimetype": "text/x-fsharp",
   "name": "fsharp",
   "nbconvert_exporter": "",
   "pygments_lexer": "",
   "version": "4.3.1.0"
  }
 },
 "nbformat": 4,
 "nbformat_minor": 2
}
