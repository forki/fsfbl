{
 "cells": [
  {
   "cell_type": "code",
   "execution_count": 2,
   "metadata": {
    "collapsed": true
   },
   "outputs": [],
   "source": [
    "#load \"Paket.fsx\""
   ]
  },
  {
   "cell_type": "code",
   "execution_count": 22,
   "metadata": {
    "collapsed": false
   },
   "outputs": [
    {
     "data": {
      "text/plain": [
       "<null>"
      ]
     },
     "execution_count": 22,
     "metadata": {},
     "output_type": "execute_result"
    }
   ],
   "source": [
    "Paket.Dependencies.Install \"\"\"\n",
    "frameworks: net45\n",
    "source https://nuget.org/api/v2\n",
    "nuget FSLab\n",
    "\"\"\"\n",
    "\n",
    "Paket.LoadingScripts.ScriptGeneration.generateScriptsForRootFolder \n",
    "   Paket.LoadingScripts.ScriptGeneration.FSharp\n",
    "   (Paket.FrameworkIdentifier.DotNetFramework Paket.FrameworkVersion.V4_5)\n",
    "   (System.IO.DirectoryInfo __SOURCE_DIRECTORY__)"
   ]
  },
  {
   "cell_type": "code",
   "execution_count": 23,
   "metadata": {
    "collapsed": true
   },
   "outputs": [],
   "source": [
    "#load \"paket-files/include-scripts/net45/include.main.group.fsx\""
   ]
  },
  {
   "cell_type": "code",
   "execution_count": 24,
   "metadata": {
    "collapsed": false
   },
   "outputs": [
    {
     "name": "stderr",
     "output_type": "stream",
     "text": [
      "input.fsx(1,1): error FS0082: Could not resolve this reference. Could not locate the assembly \"FSharp.Markdown.dll\". Check to make sure the assembly exists on disk. If this reference is required by your code, you may get compilation errors. (Code=MSB3245)\r\n",
      "\r\n",
      "\r\n",
      "input.fsx(1,1): error FS0084: Assembly reference 'FSharp.Markdown.dll' was not found or is invalid"
     ]
    }
   ],
   "source": [
    "#r \"FSharp.Markdown.dll\"\n",
    "#r \"FSharp.Literate.dll\"\n",
    "#r \"Deedle.dll\"\n",
    "\n",
    "open System.IO\n",
    "open Deedle\n",
    "open Deedle.Internal\n",
    "open FSharp.Literate\n",
    "open FSharp.Markdown\n",
    "\n",
    "// --------------------------------------------------------------------------------------\n",
    "// Implements Markdown formatters for common FsLab things - including Deedle series\n",
    "// and frames, F# Charting charts and System.Image values\n",
    "// --------------------------------------------------------------------------------------\n",
    "// How many columns and rows from frame should be rendered\n",
    "let startColumnCount = 3\n",
    "let endColumnCount = 3\n",
    "let startRowCount = 8\n",
    "let endRowCount = 4\n",
    "// How many items from a series should be rendered\n",
    "let startItemCount = 5\n",
    "let endItemCount = 3\n",
    "\n",
    "// --------------------------------------------------------------------------------------\n",
    "// Helper functions etc.\n",
    "// --------------------------------------------------------------------------------------\n",
    "/// Extract values from any series using reflection\n",
    "let (|SeriesValues|_|) (value : obj) = \n",
    "    let iser = value.GetType().GetInterface(\"ISeries`1\")\n",
    "    if iser <> null then \n",
    "        let keys = \n",
    "            value.GetType().GetProperty(\"Keys\").GetValue(value) :?> System.Collections.IEnumerable\n",
    "        let vector = value.GetType().GetProperty(\"Vector\").GetValue(value) :?> IVector\n",
    "        Some(Seq.zip (Seq.cast<obj> keys) vector.ObjectSequence)\n",
    "    else None\n",
    "\n",
    "/// Format value as a single-literal paragraph\n",
    "let formatValue def = \n",
    "    function \n",
    "    | Some v -> [ Paragraph [ Literal(v.ToString()) ] ]\n",
    "    | _ -> [ Paragraph [ Literal def ] ]\n",
    "\n",
    "/// Format body of a single table cell\n",
    "let td v = [ Paragraph [ Literal v ] ]\n",
    "\n",
    "/// Use 'f' to transform all values, then call 'g' with Some for \n",
    "/// values to show and None for \"...\" in the middle\n",
    "let mapSteps (startCount, endCount) f g input = \n",
    "    input\n",
    "    |> Seq.map f\n",
    "    |> Seq.startAndEnd startCount endCount\n",
    "    |> Seq.map (function \n",
    "           | Choice1Of3 v | Choice3Of3 v -> g (Some v)\n",
    "           | _ -> g None)\n",
    "    |> List.ofSeq\n",
    "\n",
    "// Tuples with the counts, for easy use later on\n",
    "let fcols = startColumnCount, endColumnCount\n",
    "let frows = startRowCount, endRowCount\n",
    "let sitms = startItemCount, endItemCount\n",
    "\n",
    "let getHtml (value : obj) = \n",
    "    match value with\n",
    "    | SeriesValues s -> \n",
    "        // Pretty print series!\n",
    "        let heads = \n",
    "            s |> mapSteps sitms fst (function \n",
    "                     | Some k -> td (k.ToString())\n",
    "                     | _ -> td \" ... \")\n",
    "        \n",
    "        let row = \n",
    "            s |> mapSteps sitms snd (function \n",
    "                     | Some v -> formatValue \"N/A\" (OptionalValue.asOption v)\n",
    "                     | _ -> td \" ... \")\n",
    "        \n",
    "        let aligns = s |> mapSteps sitms id (fun _ -> AlignDefault)\n",
    "        [ InlineBlock \"<div class=\\\"deedleseries\\\">\"\n",
    "          TableBlock(Some((td \"Keys\") :: heads), AlignDefault :: aligns, [ (td \"Values\") :: row ])\n",
    "          InlineBlock \"</div>\" ]\n",
    "        |> Some\n",
    "    | :? IFrame as f -> \n",
    "        { // Pretty print frame!\n",
    "          new IFrameOperation<_> with\n",
    "              member x.Invoke(f) = \n",
    "                  let heads = \n",
    "                      f.ColumnKeys |> mapSteps fcols id (function \n",
    "                                          | Some k -> td (k.ToString())\n",
    "                                          | _ -> td \" ... \")\n",
    "                  \n",
    "                  let aligns = f.ColumnKeys |> mapSteps fcols id (fun _ -> AlignDefault)\n",
    "                  \n",
    "                  let rows = \n",
    "                      f.Rows\n",
    "                      |> Series.observationsAll\n",
    "                      |> mapSteps frows id (fun item -> \n",
    "                             let def, k, data = \n",
    "                                 match item with\n",
    "                                 | Some(k, Some d) -> \n",
    "                                     \"N/A\", k.ToString(), Series.observationsAll d |> Seq.map snd\n",
    "                                 | Some(k, _) -> \n",
    "                                     \"N/A\", k.ToString(), f.ColumnKeys |> Seq.map (fun _ -> None)\n",
    "                                 | None -> \" ... \", \" ... \", f.ColumnKeys |> Seq.map (fun _ -> None)\n",
    "                             \n",
    "                             let row = \n",
    "                                 data |> mapSteps fcols id (function \n",
    "                                             | Some v -> formatValue def v\n",
    "                                             | _ -> td \" ... \")\n",
    "                             \n",
    "                             (td k) :: row)\n",
    "                  Some [ InlineBlock \"<div class=\\\"deedleframe\\\">\"\n",
    "                         TableBlock(Some([] :: heads), AlignDefault :: aligns, rows)\n",
    "                         InlineBlock \"</div>\" ] }\n",
    "        |> f.Apply\n",
    "    | _ -> None\n",
    "    \n",
    "    |> function\n",
    "       | Some pars -> \n",
    "            let doc = MarkdownDocument(pars, null)\n",
    "            Markdown.WriteHtml(doc)\n",
    "       | None -> \"\""
   ]
  },
  {
   "cell_type": "code",
   "execution_count": 14,
   "metadata": {
    "collapsed": false
   },
   "outputs": [],
   "source": [
    "open Deedle\n",
    "open FSharp.Charting\n",
    "open System"
   ]
  },
  {
   "cell_type": "code",
   "execution_count": 16,
   "metadata": {
    "collapsed": false
   },
   "outputs": [
    {
     "data": {
      "text/plain": [
       "series [ 01/01/2013 00:00:00 => 10; 01/04/2013 00:00:00 => 20; 01/08/2013 00:00:00 => 30]"
      ]
     },
     "execution_count": 16,
     "metadata": {},
     "output_type": "execute_result"
    }
   ],
   "source": [
    "let dates =\n",
    "    [ DateTime(2013, 1, 1);\n",
    "      DateTime(2013, 1, 4);\n",
    "      DateTime(2013, 1, 8) ]\n",
    "let values = \n",
    "    [ 10.0; 20.0; 30.0 ]\n",
    "\n",
    "Series(dates, values)"
   ]
  }
 ],
 "metadata": {
  "kernelspec": {
   "display_name": "F#",
   "language": "fsharp",
   "name": "ifsharp"
  },
  "language": "fsharp",
  "language_info": {
   "codemirror_mode": "",
   "file_extension": ".fs",
   "mimetype": "text/x-fsharp",
   "name": "fsharp",
   "nbconvert_exporter": "",
   "pygments_lexer": "",
   "version": "4.3.1.0"
  }
 },
 "nbformat": 4,
 "nbformat_minor": 2
}
